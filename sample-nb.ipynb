{
 "cells": [
  {
   "cell_type": "code",
   "execution_count": 5,
   "id": "b312d885-2fb4-4823-82e2-69aa0eb03c3c",
   "metadata": {
    "execution": {
     "iopub.execute_input": "2024-10-04T18:05:56.222133Z",
     "iopub.status.busy": "2024-10-04T18:05:56.221985Z",
     "iopub.status.idle": "2024-10-04T18:05:56.229149Z",
     "shell.execute_reply": "2024-10-04T18:05:56.228945Z",
     "shell.execute_reply.started": "2024-10-04T18:05:56.222121Z"
    }
   },
   "outputs": [
    {
     "data": {
      "application/vnd.miniprof+json": {
       "cpu_time": 0.014572,
       "duration": 0.013732,
       "memory_usage": 0.25,
       "root_frame": {
        "await_time": 0,
        "children": [
         {
          "await_time": 0,
          "children": [
           {
            "await_time": 0,
            "children": [
             {
              "await_time": 0,
              "children": [
               {
                "await_time": 0,
                "children": [
                 {
                  "await_time": 0,
                  "children": [
                   {
                    "await_time": 0,
                    "children": [
                     {
                      "await_time": 0,
                      "children": [
                       {
                        "await_time": 0,
                        "children": [
                         {
                          "await_time": 0,
                          "children": [
                           {
                            "await_time": 0,
                            "children": [
                             {
                              "await_time": 0,
                              "children": [
                               {
                                "await_time": 0,
                                "children": [
                                 {
                                  "await_time": 0,
                                  "children": [
                                   {
                                    "await_time": 0,
                                    "children": [
                                     {
                                      "await_time": 0,
                                      "children": [
                                       {
                                        "await_time": 0,
                                        "children": [
                                         {
                                          "await_time": 0,
                                          "children": [
                                           {
                                            "await_time": 0,
                                            "children": [
                                             {
                                              "await_time": 0,
                                              "children": [
                                               {
                                                "await_time": 0,
                                                "children": [
                                                 {
                                                  "await_time": 0,
                                                  "children": [
                                                   {
                                                    "await_time": 0,
                                                    "children": [
                                                     {
                                                      "await_time": 0,
                                                      "children": [
                                                       {
                                                        "await_time": 0,
                                                        "children": [],
                                                        "class_name": "Config",
                                                        "file_path": "/Users/swap357/miniconda3/envs/jprof/lib/python3.12/site-packages/traitlets/config/loader.py",
                                                        "file_path_short": "traitlets/config/loader.py",
                                                        "function": "__contains__",
                                                        "group_id": "404b943f-0b63-4386-b672-f700260f90ca",
                                                        "is_application_code": false,
                                                        "line_no": 295,
                                                        "time": 0.001327
                                                       }
                                                      ],
                                                      "class_name": "Config",
                                                      "file_path": "/Users/swap357/miniconda3/envs/jprof/lib/python3.12/site-packages/traitlets/config/loader.py",
                                                      "file_path_short": "traitlets/config/loader.py",
                                                      "function": "_has_section",
                                                      "group_id": "404b943f-0b63-4386-b672-f700260f90ca",
                                                      "is_application_code": false,
                                                      "line_no": 308,
                                                      "time": 0.001327
                                                     },
                                                     {
                                                      "await_time": 0,
                                                      "children": [
                                                       {
                                                        "await_time": 0,
                                                        "children": [
                                                         {
                                                          "await_time": 0,
                                                          "children": [],
                                                          "class_name": "Config",
                                                          "file_path": "/Users/swap357/miniconda3/envs/jprof/lib/python3.12/site-packages/traitlets/config/loader.py",
                                                          "file_path_short": "traitlets/config/loader.py",
                                                          "function": "__contains__",
                                                          "group_id": "404b943f-0b63-4386-b672-f700260f90ca",
                                                          "is_application_code": false,
                                                          "line_no": 295,
                                                          "time": 0.000998
                                                         }
                                                        ],
                                                        "class_name": "Config",
                                                        "file_path": "/Users/swap357/miniconda3/envs/jprof/lib/python3.12/site-packages/traitlets/config/loader.py",
                                                        "file_path_short": "traitlets/config/loader.py",
                                                        "function": "_has_section",
                                                        "group_id": "404b943f-0b63-4386-b672-f700260f90ca",
                                                        "is_application_code": false,
                                                        "line_no": 308,
                                                        "time": 0.000998
                                                       }
                                                      ],
                                                      "class_name": "IPythonKernel",
                                                      "file_path": "/Users/swap357/miniconda3/envs/jprof/lib/python3.12/site-packages/traitlets/config/configurable.py",
                                                      "file_path_short": "traitlets/config/configurable.py",
                                                      "function": "_find_my_config",
                                                      "group_id": "404b943f-0b63-4386-b672-f700260f90ca",
                                                      "is_application_code": false,
                                                      "line_no": 138,
                                                      "time": 0.000998
                                                     }
                                                    ],
                                                    "class_name": "ZMQInteractiveShell",
                                                    "file_path": "/Users/swap357/miniconda3/envs/jprof/lib/python3.12/site-packages/traitlets/config/configurable.py",
                                                    "file_path_short": "traitlets/config/configurable.py",
                                                    "function": "_find_my_config",
                                                    "group_id": "404b943f-0b63-4386-b672-f700260f90ca",
                                                    "is_application_code": false,
                                                    "line_no": 138,
                                                    "time": 0.002325
                                                   }
                                                  ],
                                                  "class_name": "DisplayFormatter",
                                                  "file_path": "/Users/swap357/miniconda3/envs/jprof/lib/python3.12/site-packages/traitlets/config/configurable.py",
                                                  "file_path_short": "traitlets/config/configurable.py",
                                                  "function": "_find_my_config",
                                                  "group_id": "404b943f-0b63-4386-b672-f700260f90ca",
                                                  "is_application_code": false,
                                                  "line_no": 138,
                                                  "time": 0.002325
                                                 }
                                                ],
                                                "class_name": "SVGFormatter",
                                                "file_path": "/Users/swap357/miniconda3/envs/jprof/lib/python3.12/site-packages/traitlets/config/configurable.py",
                                                "file_path_short": "traitlets/config/configurable.py",
                                                "function": "_find_my_config",
                                                "group_id": "404b943f-0b63-4386-b672-f700260f90ca",
                                                "is_application_code": false,
                                                "line_no": 138,
                                                "time": 0.002325
                                               }
                                              ],
                                              "class_name": "SVGFormatter",
                                              "file_path": "/Users/swap357/miniconda3/envs/jprof/lib/python3.12/site-packages/traitlets/config/configurable.py",
                                              "file_path_short": "traitlets/config/configurable.py",
                                              "function": "_load_config",
                                              "group_id": "404b943f-0b63-4386-b672-f700260f90ca",
                                              "is_application_code": false,
                                              "line_no": 163,
                                              "time": 0.002325
                                             }
                                            ],
                                            "class_name": "SVGFormatter",
                                            "file_path": "/Users/swap357/miniconda3/envs/jprof/lib/python3.12/site-packages/traitlets/config/configurable.py",
                                            "file_path_short": "traitlets/config/configurable.py",
                                            "function": "_config_changed",
                                            "group_id": "404b943f-0b63-4386-b672-f700260f90ca",
                                            "is_application_code": false,
                                            "line_no": 216,
                                            "time": 0.002325
                                           }
                                          ],
                                          "class_name": "SVGFormatter",
                                          "file_path": "/Users/swap357/miniconda3/envs/jprof/lib/python3.12/site-packages/traitlets/traitlets.py",
                                          "file_path_short": "traitlets/traitlets.py",
                                          "function": "compatible_observer",
                                          "group_id": "404b943f-0b63-4386-b672-f700260f90ca",
                                          "is_application_code": false,
                                          "line_no": 1124,
                                          "time": 0.002325
                                         }
                                        ],
                                        "class_name": "SVGFormatter",
                                        "file_path": "/Users/swap357/miniconda3/envs/jprof/lib/python3.12/site-packages/traitlets/traitlets.py",
                                        "file_path_short": "traitlets/traitlets.py",
                                        "function": "_notify_observers",
                                        "group_id": "404b943f-0b63-4386-b672-f700260f90ca",
                                        "is_application_code": false,
                                        "line_no": 1527,
                                        "time": 0.002325
                                       }
                                      ],
                                      "class_name": "SVGFormatter",
                                      "file_path": "/Users/swap357/miniconda3/envs/jprof/lib/python3.12/site-packages/traitlets/traitlets.py",
                                      "file_path_short": "traitlets/traitlets.py",
                                      "function": "notify_change",
                                      "group_id": "404b943f-0b63-4386-b672-f700260f90ca",
                                      "is_application_code": false,
                                      "line_no": 1523,
                                      "time": 0.002325
                                     }
                                    ],
                                    "class_name": "SVGFormatter",
                                    "file_path": "/Users/swap357/miniconda3/envs/jprof/lib/python3.12/site-packages/traitlets/traitlets.py",
                                    "file_path_short": "traitlets/traitlets.py",
                                    "function": "_notify_trait",
                                    "group_id": "404b943f-0b63-4386-b672-f700260f90ca",
                                    "is_application_code": false,
                                    "line_no": 1512,
                                    "time": 0.002325
                                   }
                                  ],
                                  "class_name": "Instance",
                                  "file_path": "/Users/swap357/miniconda3/envs/jprof/lib/python3.12/site-packages/traitlets/traitlets.py",
                                  "file_path_short": "traitlets/traitlets.py",
                                  "function": "set",
                                  "group_id": "404b943f-0b63-4386-b672-f700260f90ca",
                                  "is_application_code": false,
                                  "line_no": 689,
                                  "time": 0.002325
                                 }
                                ],
                                "class_name": "Instance",
                                "file_path": "/Users/swap357/miniconda3/envs/jprof/lib/python3.12/site-packages/traitlets/traitlets.py",
                                "file_path_short": "traitlets/traitlets.py",
                                "function": "__set__",
                                "group_id": "404b943f-0b63-4386-b672-f700260f90ca",
                                "is_application_code": false,
                                "line_no": 708,
                                "time": 0.002325
                               },
                               {
                                "await_time": 0,
                                "children": [
                                 {
                                  "await_time": 0,
                                  "children": [
                                   {
                                    "await_time": 0,
                                    "children": [],
                                    "file_path": "<built-in>",
                                    "file_path_short": "<built-in>",
                                    "function": "list.append",
                                    "group_id": "404b943f-0b63-4386-b672-f700260f90ca",
                                    "is_application_code": false,
                                    "line_no": 0,
                                    "time": 0.000999
                                   }
                                  ],
                                  "class_name": "HTMLFormatter",
                                  "file_path": "/Users/swap357/miniconda3/envs/jprof/lib/python3.12/site-packages/traitlets/traitlets.py",
                                  "file_path_short": "traitlets/traitlets.py",
                                  "function": "_add_notifiers",
                                  "group_id": "404b943f-0b63-4386-b672-f700260f90ca",
                                  "is_application_code": false,
                                  "line_no": 1570,
                                  "time": 0.000999
                                 }
                                ],
                                "class_name": "HTMLFormatter",
                                "file_path": "/Users/swap357/miniconda3/envs/jprof/lib/python3.12/site-packages/traitlets/traitlets.py",
                                "file_path_short": "traitlets/traitlets.py",
                                "function": "observe",
                                "group_id": "404b943f-0b63-4386-b672-f700260f90ca",
                                "is_application_code": false,
                                "line_no": 1641,
                                "time": 0.000999
                               }
                              ],
                              "class_name": "SVGFormatter",
                              "file_path": "/Users/swap357/miniconda3/envs/jprof/lib/python3.12/site-packages/traitlets/config/configurable.py",
                              "file_path_short": "traitlets/config/configurable.py",
                              "function": "__init__",
                              "group_id": "404b943f-0b63-4386-b672-f700260f90ca",
                              "is_application_code": false,
                              "line_no": 57,
                              "time": 0.003324
                             },
                             {
                              "await_time": 0,
                              "children": [
                               {
                                "await_time": 0,
                                "children": [
                                 {
                                  "await_time": 0,
                                  "children": [
                                   {
                                    "await_time": 0,
                                    "children": [
                                     {
                                      "await_time": 0,
                                      "children": [],
                                      "class_name": "JSONFormatter",
                                      "file_path": "/Users/swap357/miniconda3/envs/jprof/lib/python3.12/site-packages/traitlets/traitlets.py",
                                      "file_path_short": "traitlets/traitlets.py",
                                      "function": "observe",
                                      "group_id": "404b943f-0b63-4386-b672-f700260f90ca",
                                      "is_application_code": false,
                                      "line_no": 1641,
                                      "time": 0.001
                                     }
                                    ],
                                    "class_name": "ObserveHandler",
                                    "file_path": "/Users/swap357/miniconda3/envs/jprof/lib/python3.12/site-packages/traitlets/traitlets.py",
                                    "file_path_short": "traitlets/traitlets.py",
                                    "function": "instance_init",
                                    "group_id": "404b943f-0b63-4386-b672-f700260f90ca",
                                    "is_application_code": false,
                                    "line_no": 1256,
                                    "time": 0.001
                                   }
                                  ],
                                  "file_path": "/Users/swap357/miniconda3/envs/jprof/lib/python3.12/site-packages/traitlets/traitlets.py",
                                  "file_path_short": "traitlets/traitlets.py",
                                  "function": "setup_instance",
                                  "group_id": "404b943f-0b63-4386-b672-f700260f90ca",
                                  "is_application_code": false,
                                  "line_no": 1295,
                                  "time": 0.001
                                 }
                                ],
                                "file_path": "/Users/swap357/miniconda3/envs/jprof/lib/python3.12/site-packages/traitlets/traitlets.py",
                                "file_path_short": "traitlets/traitlets.py",
                                "function": "setup_instance",
                                "group_id": "404b943f-0b63-4386-b672-f700260f90ca",
                                "is_application_code": false,
                                "line_no": 1323,
                                "time": 0.001
                               }
                              ],
                              "file_path": "/Users/swap357/miniconda3/envs/jprof/lib/python3.12/site-packages/traitlets/traitlets.py",
                              "file_path_short": "traitlets/traitlets.py",
                              "function": "__new__",
                              "group_id": "404b943f-0b63-4386-b672-f700260f90ca",
                              "is_application_code": false,
                              "line_no": 1280,
                              "time": 0.001
                             }
                            ],
                            "class_name": "DisplayFormatter",
                            "file_path": "/Users/swap357/miniconda3/envs/jprof/lib/python3.12/site-packages/IPython/core/formatters.py",
                            "file_path_short": "IPython/core/formatters.py",
                            "function": "_formatters_default",
                            "group_id": "404b943f-0b63-4386-b672-f700260f90ca",
                            "is_application_code": false,
                            "line_no": 72,
                            "time": 0.004324
                           }
                          ],
                          "class_name": "DefaultHandler",
                          "file_path": "/Users/swap357/miniconda3/envs/jprof/lib/python3.12/site-packages/traitlets/traitlets.py",
                          "file_path_short": "traitlets/traitlets.py",
                          "function": "__call__",
                          "group_id": "404b943f-0b63-4386-b672-f700260f90ca",
                          "is_application_code": false,
                          "line_no": 1238,
                          "time": 0.004324
                         }
                        ],
                        "class_name": "DisplayFormatter",
                        "file_path": "/Users/swap357/miniconda3/envs/jprof/lib/python3.12/site-packages/traitlets/traitlets.py",
                        "file_path_short": "traitlets/traitlets.py",
                        "function": "trait_defaults",
                        "group_id": "404b943f-0b63-4386-b672-f700260f90ca",
                        "is_application_code": false,
                        "line_no": 1885,
                        "time": 0.004324
                       }
                      ],
                      "class_name": "Dict",
                      "file_path": "/Users/swap357/miniconda3/envs/jprof/lib/python3.12/site-packages/traitlets/traitlets.py",
                      "file_path_short": "traitlets/traitlets.py",
                      "function": "get",
                      "group_id": "404b943f-0b63-4386-b672-f700260f90ca",
                      "is_application_code": false,
                      "line_no": 629,
                      "time": 0.004324
                     }
                    ],
                    "class_name": "Dict",
                    "file_path": "/Users/swap357/miniconda3/envs/jprof/lib/python3.12/site-packages/traitlets/traitlets.py",
                    "file_path_short": "traitlets/traitlets.py",
                    "function": "__get__",
                    "group_id": "404b943f-0b63-4386-b672-f700260f90ca",
                    "is_application_code": false,
                    "line_no": 676,
                    "time": 0.004324
                   },
                   {
                    "await_time": 0,
                    "children": [
                     {
                      "await_time": 0,
                      "children": [
                       {
                        "await_time": 0,
                        "children": [
                         {
                          "await_time": 0,
                          "children": [
                           {
                            "await_time": 0,
                            "children": [
                             {
                              "await_time": 0,
                              "children": [
                               {
                                "await_time": 0,
                                "children": [
                                 {
                                  "await_time": 0,
                                  "children": [],
                                  "class_name": "IPythonDisplayFormatter",
                                  "file_path": "/Users/swap357/miniconda3/envs/jprof/lib/python3.12/site-packages/traitlets/traitlets.py",
                                  "file_path_short": "traitlets/traitlets.py",
                                  "function": "_get_trait_default_generator",
                                  "group_id": "404b943f-0b63-4386-b672-f700260f90ca",
                                  "is_application_code": false,
                                  "line_no": 1873,
                                  "time": 0.001
                                 }
                                ],
                                "class_name": "IPythonDisplayFormatter",
                                "file_path": "/Users/swap357/miniconda3/envs/jprof/lib/python3.12/site-packages/traitlets/traitlets.py",
                                "file_path_short": "traitlets/traitlets.py",
                                "function": "trait_defaults",
                                "group_id": "404b943f-0b63-4386-b672-f700260f90ca",
                                "is_application_code": false,
                                "line_no": 1885,
                                "time": 0.001
                               }
                              ],
                              "class_name": "Dict",
                              "file_path": "/Users/swap357/miniconda3/envs/jprof/lib/python3.12/site-packages/traitlets/traitlets.py",
                              "file_path_short": "traitlets/traitlets.py",
                              "function": "get",
                              "group_id": "404b943f-0b63-4386-b672-f700260f90ca",
                              "is_application_code": false,
                              "line_no": 629,
                              "time": 0.001
                             }
                            ],
                            "class_name": "Dict",
                            "file_path": "/Users/swap357/miniconda3/envs/jprof/lib/python3.12/site-packages/traitlets/traitlets.py",
                            "file_path_short": "traitlets/traitlets.py",
                            "function": "__get__",
                            "group_id": "404b943f-0b63-4386-b672-f700260f90ca",
                            "is_application_code": false,
                            "line_no": 676,
                            "time": 0.001
                           }
                          ],
                          "class_name": "IPythonDisplayFormatter",
                          "file_path": "/Users/swap357/miniconda3/envs/jprof/lib/python3.12/site-packages/IPython/core/formatters.py",
                          "file_path_short": "IPython/core/formatters.py",
                          "function": "lookup",
                          "group_id": "404b943f-0b63-4386-b672-f700260f90ca",
                          "is_application_code": false,
                          "line_no": 376,
                          "time": 0.001
                         }
                        ],
                        "class_name": "IPythonDisplayFormatter",
                        "file_path": "/Users/swap357/miniconda3/envs/jprof/lib/python3.12/site-packages/IPython/core/formatters.py",
                        "file_path_short": "IPython/core/formatters.py",
                        "function": "__call__",
                        "group_id": "404b943f-0b63-4386-b672-f700260f90ca",
                        "is_application_code": false,
                        "line_no": 910,
                        "time": 0.001
                       },
                       {
                        "await_time": 0,
                        "children": [
                         {
                          "await_time": 0,
                          "children": [
                           {
                            "await_time": 0,
                            "children": [
                             {
                              "await_time": 0,
                              "children": [
                               {
                                "await_time": 0,
                                "children": [],
                                "class_name": "ObjectName",
                                "file_path": "/Users/swap357/miniconda3/envs/jprof/lib/python3.12/site-packages/traitlets/traitlets.py",
                                "file_path_short": "traitlets/traitlets.py",
                                "function": "validate",
                                "group_id": "404b943f-0b63-4386-b672-f700260f90ca",
                                "is_application_code": false,
                                "line_no": 3025,
                                "time": 0.001
                               }
                              ],
                              "class_name": "ObjectName",
                              "file_path": "/Users/swap357/miniconda3/envs/jprof/lib/python3.12/site-packages/traitlets/traitlets.py",
                              "file_path_short": "traitlets/traitlets.py",
                              "function": "_validate",
                              "group_id": "404b943f-0b63-4386-b672-f700260f90ca",
                              "is_application_code": false,
                              "line_no": 718,
                              "time": 0.001
                             }
                            ],
                            "class_name": "ObjectName",
                            "file_path": "/Users/swap357/miniconda3/envs/jprof/lib/python3.12/site-packages/traitlets/traitlets.py",
                            "file_path_short": "traitlets/traitlets.py",
                            "function": "get",
                            "group_id": "404b943f-0b63-4386-b672-f700260f90ca",
                            "is_application_code": false,
                            "line_no": 629,
                            "time": 0.001
                           }
                          ],
                          "class_name": "ObjectName",
                          "file_path": "/Users/swap357/miniconda3/envs/jprof/lib/python3.12/site-packages/traitlets/traitlets.py",
                          "file_path_short": "traitlets/traitlets.py",
                          "function": "__get__",
                          "group_id": "404b943f-0b63-4386-b672-f700260f90ca",
                          "is_application_code": false,
                          "line_no": 676,
                          "time": 0.001
                         }
                        ],
                        "class_name": "JSONFormatter",
                        "file_path": "/Users/swap357/miniconda3/envs/jprof/lib/python3.12/site-packages/IPython/core/formatters.py",
                        "file_path_short": "IPython/core/formatters.py",
                        "function": "__call__",
                        "group_id": "404b943f-0b63-4386-b672-f700260f90ca",
                        "is_application_code": false,
                        "line_no": 333,
                        "time": 0.001
                       },
                       {
                        "await_time": 0,
                        "children": [
                         {
                          "await_time": 0,
                          "children": [
                           {
                            "await_time": 0,
                            "children": [
                             {
                              "await_time": 0,
                              "children": [
                               {
                                "await_time": 0,
                                "children": [
                                 {
                                  "await_time": 0,
                                  "children": [
                                   {
                                    "await_time": 0,
                                    "children": [
                                     {
                                      "await_time": 0,
                                      "children": [
                                       {
                                        "await_time": 0,
                                        "children": [
                                         {
                                          "await_time": 0,
                                          "children": [],
                                          "file_path": "<built-in>",
                                          "file_path_short": "<built-in>",
                                          "function": "len",
                                          "group_id": "404b943f-0b63-4386-b672-f700260f90ca",
                                          "is_application_code": false,
                                          "line_no": 0,
                                          "time": 0.001
                                         }
                                        ],
                                        "class_name": "GroupQueue",
                                        "file_path": "/Users/swap357/miniconda3/envs/jprof/lib/python3.12/site-packages/IPython/lib/pretty.py",
                                        "file_path_short": "IPython/lib/pretty.py",
                                        "function": "enq",
                                        "group_id": "404b943f-0b63-4386-b672-f700260f90ca",
                                        "is_application_code": false,
                                        "line_no": 504,
                                        "time": 0.001
                                       }
                                      ],
                                      "class_name": "RepresentationPrinter",
                                      "file_path": "/Users/swap357/miniconda3/envs/jprof/lib/python3.12/site-packages/IPython/lib/pretty.py",
                                      "file_path_short": "IPython/lib/pretty.py",
                                      "function": "begin_group",
                                      "group_id": "404b943f-0b63-4386-b672-f700260f90ca",
                                      "is_application_code": false,
                                      "line_no": 281,
                                      "time": 0.001
                                     }
                                    ],
                                    "class_name": "RepresentationPrinter",
                                    "file_path": "/Users/swap357/miniconda3/envs/jprof/lib/python3.12/site-packages/IPython/lib/pretty.py",
                                    "file_path_short": "IPython/lib/pretty.py",
                                    "function": "group",
                                    "group_id": "404b943f-0b63-4386-b672-f700260f90ca",
                                    "is_application_code": false,
                                    "line_no": 185,
                                    "time": 0.001
                                   }
                                  ],
                                  "class_name": "_GeneratorContextManager",
                                  "file_path": "/Users/swap357/miniconda3/envs/jprof/lib/python3.12/contextlib.py",
                                  "file_path_short": "contextlib.py",
                                  "function": "__enter__",
                                  "group_id": "404b943f-0b63-4386-b672-f700260f90ca",
                                  "is_application_code": false,
                                  "line_no": 132,
                                  "time": 0.001
                                 }
                                ],
                                "file_path": "/Users/swap357/miniconda3/envs/jprof/lib/python3.12/site-packages/IPython/lib/pretty.py",
                                "file_path_short": "IPython/lib/pretty.py",
                                "function": "_repr_pprint",
                                "group_id": "404b943f-0b63-4386-b672-f700260f90ca",
                                "is_application_code": false,
                                "line_no": 784,
                                "time": 0.001
                               }
                              ],
                              "class_name": "RepresentationPrinter",
                              "file_path": "/Users/swap357/miniconda3/envs/jprof/lib/python3.12/site-packages/IPython/lib/pretty.py",
                              "file_path_short": "IPython/lib/pretty.py",
                              "function": "pretty",
                              "group_id": "404b943f-0b63-4386-b672-f700260f90ca",
                              "is_application_code": false,
                              "line_no": 373,
                              "time": 0.001
                             }
                            ],
                            "file_path": "/Users/swap357/miniconda3/envs/jprof/lib/python3.12/site-packages/IPython/lib/pretty.py",
                            "file_path_short": "IPython/lib/pretty.py",
                            "function": "inner",
                            "group_id": "404b943f-0b63-4386-b672-f700260f90ca",
                            "is_application_code": false,
                            "line_no": 640,
                            "time": 0.001
                           }
                          ],
                          "class_name": "RepresentationPrinter",
                          "file_path": "/Users/swap357/miniconda3/envs/jprof/lib/python3.12/site-packages/IPython/lib/pretty.py",
                          "file_path_short": "IPython/lib/pretty.py",
                          "function": "pretty",
                          "group_id": "404b943f-0b63-4386-b672-f700260f90ca",
                          "is_application_code": false,
                          "line_no": 373,
                          "time": 0.001
                         }
                        ],
                        "class_name": "PlainTextFormatter",
                        "file_path": "/Users/swap357/miniconda3/envs/jprof/lib/python3.12/site-packages/IPython/core/formatters.py",
                        "file_path_short": "IPython/core/formatters.py",
                        "function": "__call__",
                        "group_id": "404b943f-0b63-4386-b672-f700260f90ca",
                        "is_application_code": false,
                        "line_no": 698,
                        "time": 0.001
                       }
                      ],
                      "file_path": "/Users/swap357/miniconda3/envs/jprof/lib/python3.12/site-packages/IPython/core/formatters.py",
                      "file_path_short": "IPython/core/formatters.py",
                      "function": "catch_format_error",
                      "group_id": "404b943f-0b63-4386-b672-f700260f90ca",
                      "is_application_code": false,
                      "line_no": 222,
                      "time": 0.003
                     }
                    ],
                    "file_path": "/Users/swap357/miniconda3/envs/jprof/lib/python3.12/site-packages/decorator.py",
                    "file_path_short": "decorator.py",
                    "function": "fun",
                    "group_id": "404b943f-0b63-4386-b672-f700260f90ca",
                    "is_application_code": false,
                    "line_no": 229,
                    "time": 0.003
                   }
                  ],
                  "class_name": "DisplayFormatter",
                  "file_path": "/Users/swap357/miniconda3/envs/jprof/lib/python3.12/site-packages/IPython/core/formatters.py",
                  "file_path_short": "IPython/core/formatters.py",
                  "function": "format",
                  "group_id": "404b943f-0b63-4386-b672-f700260f90ca",
                  "is_application_code": false,
                  "line_no": 93,
                  "time": 0.007324
                 }
                ],
                "class_name": "ZMQShellDisplayHook",
                "file_path": "/Users/swap357/miniconda3/envs/jprof/lib/python3.12/site-packages/IPython/core/displayhook.py",
                "file_path_short": "IPython/core/displayhook.py",
                "function": "compute_format_data",
                "group_id": "404b943f-0b63-4386-b672-f700260f90ca",
                "is_application_code": false,
                "line_no": 127,
                "time": 0.007324
               },
               {
                "await_time": 0,
                "children": [
                 {
                  "await_time": 0,
                  "children": [
                   {
                    "await_time": 0,
                    "children": [
                     {
                      "await_time": 0,
                      "children": [
                       {
                        "await_time": 0,
                        "children": [],
                        "file_path": "<built-in>",
                        "file_path_short": "<built-in>",
                        "function": "lock.acquire",
                        "group_id": "404b943f-0b63-4386-b672-f700260f90ca",
                        "is_application_code": false,
                        "line_no": 0,
                        "time": 0.001134
                       }
                      ],
                      "class_name": "Condition",
                      "file_path": "/Users/swap357/miniconda3/envs/jprof/lib/python3.12/threading.py",
                      "file_path_short": "threading.py",
                      "function": "wait",
                      "group_id": "404b943f-0b63-4386-b672-f700260f90ca",
                      "is_application_code": false,
                      "line_no": 323,
                      "time": 0.001134
                     }
                    ],
                    "class_name": "Event",
                    "file_path": "/Users/swap357/miniconda3/envs/jprof/lib/python3.12/threading.py",
                    "file_path_short": "threading.py",
                    "function": "wait",
                    "group_id": "404b943f-0b63-4386-b672-f700260f90ca",
                    "is_application_code": false,
                    "line_no": 637,
                    "time": 0.001134
                   }
                  ],
                  "class_name": "OutStream",
                  "file_path": "/Users/swap357/miniconda3/envs/jprof/lib/python3.12/site-packages/ipykernel/iostream.py",
                  "file_path_short": "ipykernel/iostream.py",
                  "function": "flush",
                  "group_id": "404b943f-0b63-4386-b672-f700260f90ca",
                  "is_application_code": false,
                  "line_no": 561,
                  "time": 0.001134
                 }
                ],
                "class_name": "ZMQShellDisplayHook",
                "file_path": "/Users/swap357/miniconda3/envs/jprof/lib/python3.12/site-packages/ipykernel/displayhook.py",
                "file_path_short": "ipykernel/displayhook.py",
                "function": "finish_displayhook",
                "group_id": "404b943f-0b63-4386-b672-f700260f90ca",
                "is_application_code": false,
                "line_no": 95,
                "time": 0.001134
               },
               {
                "await_time": 0,
                "children": [
                 {
                  "await_time": 0,
                  "children": [
                   {
                    "await_time": 0,
                    "children": [],
                    "file_path": "/Users/swap357/miniconda3/envs/jprof/lib/python3.12/tokenize.py",
                    "file_path_short": "tokenize.py",
                    "function": "_generate_tokens_from_c_tokenizer",
                    "group_id": "404b943f-0b63-4386-b672-f700260f90ca",
                    "is_application_code": false,
                    "line_no": 569,
                    "time": 0.001046
                   }
                  ],
                  "file_path": "/Users/swap357/miniconda3/envs/jprof/lib/python3.12/site-packages/IPython/core/displayhook.py",
                  "file_path_short": "IPython/core/displayhook.py",
                  "function": "semicolon_at_end_of_expression",
                  "group_id": "404b943f-0b63-4386-b672-f700260f90ca",
                  "is_application_code": false,
                  "line_no": 96,
                  "time": 0.001046
                 }
                ],
                "class_name": "ZMQShellDisplayHook",
                "file_path": "/Users/swap357/miniconda3/envs/jprof/lib/python3.12/site-packages/IPython/core/displayhook.py",
                "file_path_short": "IPython/core/displayhook.py",
                "function": "quiet",
                "group_id": "404b943f-0b63-4386-b672-f700260f90ca",
                "is_application_code": false,
                "line_no": 84,
                "time": 0.001046
               }
              ],
              "class_name": "ZMQShellDisplayHook",
              "file_path": "/Users/swap357/miniconda3/envs/jprof/lib/python3.12/site-packages/IPython/core/displayhook.py",
              "file_path_short": "IPython/core/displayhook.py",
              "function": "__call__",
              "group_id": "404b943f-0b63-4386-b672-f700260f90ca",
              "is_application_code": false,
              "line_no": 258,
              "time": 0.009504
             }
            ],
            "file_path": "/var/folders/9j/m8bnhxz13gn_8wlkkd6dqhrh0000gp/T/ipykernel_54898/2534923195.py",
            "file_path_short": "../../../../../var/folders/9j/m8bnhxz13gn_8wlkkd6dqhrh0000gp/T/ipykernel_54898/2534923195.py",
            "function": "<module>",
            "is_application_code": true,
            "line_no": 1,
            "time": 0.009504
           }
          ],
          "class_name": "ZMQInteractiveShell",
          "file_path": "/Users/swap357/miniconda3/envs/jprof/lib/python3.12/site-packages/IPython/core/interactiveshell.py",
          "file_path_short": "IPython/core/interactiveshell.py",
          "function": "run_ast_nodes",
          "is_application_code": false,
          "line_no": 3418,
          "time": 0.009504
         },
         {
          "await_time": 0,
          "children": [
           {
            "await_time": 0,
            "children": [],
            "file_path": "<built-in>",
            "file_path_short": "<built-in>",
            "function": "compile",
            "group_id": "fd8cffa2-9e06-474b-8858-f367aaacf8d3",
            "is_application_code": false,
            "line_no": 0,
            "time": 0.001151
           }
          ],
          "class_name": "XCachingCompiler",
          "file_path": "/Users/swap357/miniconda3/envs/jprof/lib/python3.12/site-packages/IPython/core/compilerop.py",
          "file_path_short": "IPython/core/compilerop.py",
          "function": "ast_parse",
          "group_id": "fd8cffa2-9e06-474b-8858-f367aaacf8d3",
          "is_application_code": false,
          "line_no": 81,
          "time": 0.001151
         }
        ],
        "class_name": "ZMQInteractiveShell",
        "file_path": "/Users/swap357/miniconda3/envs/jprof/lib/python3.12/site-packages/IPython/core/interactiveshell.py",
        "file_path_short": "IPython/core/interactiveshell.py",
        "function": "run_cell_async",
        "is_application_code": false,
        "line_no": 3183,
        "time": 0.010656
       },
       "sample_count": 10,
       "start_time": 1728065134.069307,
       "target_description": "Profile at /Users/swap357/Documents/dev/jprofiler/jprofiler/miniprofiler.py:22"
      }
     },
     "metadata": {},
     "output_type": "display_data"
    }
   ],
   "source": [
    "def compute_primes(n):\n",
    "    primes = []\n",
    "    for num in range(2, n + 1):\n",
    "        for i in range(2, int(num ** 0.5) + 1):\n",
    "            if num % i == 0:\n",
    "                break\n",
    "        else:\n",
    "            primes.append(num)\n",
    "    return primes"
   ]
  },
  {
   "cell_type": "code",
   "execution_count": 6,
   "id": "5e929d18-0888-4603-a8b0-33d3907429ab",
   "metadata": {
    "execution": {
     "iopub.execute_input": "2024-10-04T18:05:56.820313Z",
     "iopub.status.busy": "2024-10-04T18:05:56.820126Z",
     "iopub.status.idle": "2024-10-04T18:05:56.828441Z",
     "shell.execute_reply": "2024-10-04T18:05:56.828184Z",
     "shell.execute_reply.started": "2024-10-04T18:05:56.820300Z"
    }
   },
   "outputs": [
    {
     "data": {
      "text/plain": [
       "[2, 3, 5, 7]"
      ]
     },
     "execution_count": 6,
     "metadata": {},
     "output_type": "execute_result"
    },
    {
     "data": {
      "application/vnd.miniprof+json": {
       "cpu_time": 0.016823,
       "duration": 0.015464,
       "memory_usage": 0.234375,
       "root_frame": {
        "await_time": 0,
        "children": [
         {
          "await_time": 0,
          "children": [
           {
            "await_time": 0,
            "children": [
             {
              "await_time": 0,
              "children": [
               {
                "await_time": 0,
                "children": [
                 {
                  "await_time": 0,
                  "children": [
                   {
                    "await_time": 0,
                    "children": [
                     {
                      "await_time": 0,
                      "children": [
                       {
                        "await_time": 0,
                        "children": [
                         {
                          "await_time": 0,
                          "children": [
                           {
                            "await_time": 0,
                            "children": [
                             {
                              "await_time": 0,
                              "children": [
                               {
                                "await_time": 0,
                                "children": [
                                 {
                                  "await_time": 0,
                                  "children": [
                                   {
                                    "await_time": 0,
                                    "children": [
                                     {
                                      "await_time": 0,
                                      "children": [
                                       {
                                        "await_time": 0,
                                        "children": [
                                         {
                                          "await_time": 0,
                                          "children": [
                                           {
                                            "await_time": 0,
                                            "children": [
                                             {
                                              "await_time": 0,
                                              "children": [
                                               {
                                                "await_time": 0,
                                                "children": [
                                                 {
                                                  "await_time": 0,
                                                  "children": [
                                                   {
                                                    "await_time": 0,
                                                    "children": [
                                                     {
                                                      "await_time": 0,
                                                      "children": [
                                                       {
                                                        "await_time": 0,
                                                        "children": [],
                                                        "class_name": "Config",
                                                        "file_path": "/Users/swap357/miniconda3/envs/jprof/lib/python3.12/site-packages/traitlets/config/loader.py",
                                                        "file_path_short": "traitlets/config/loader.py",
                                                        "function": "__contains__",
                                                        "group_id": "120818b6-0e84-497d-a8a3-6b07355f0be4",
                                                        "is_application_code": false,
                                                        "line_no": 295,
                                                        "time": 0.001327
                                                       }
                                                      ],
                                                      "class_name": "Config",
                                                      "file_path": "/Users/swap357/miniconda3/envs/jprof/lib/python3.12/site-packages/traitlets/config/loader.py",
                                                      "file_path_short": "traitlets/config/loader.py",
                                                      "function": "_has_section",
                                                      "group_id": "120818b6-0e84-497d-a8a3-6b07355f0be4",
                                                      "is_application_code": false,
                                                      "line_no": 308,
                                                      "time": 0.001327
                                                     },
                                                     {
                                                      "await_time": 0,
                                                      "children": [
                                                       {
                                                        "await_time": 0,
                                                        "children": [
                                                         {
                                                          "await_time": 0,
                                                          "children": [],
                                                          "class_name": "Config",
                                                          "file_path": "/Users/swap357/miniconda3/envs/jprof/lib/python3.12/site-packages/traitlets/config/loader.py",
                                                          "file_path_short": "traitlets/config/loader.py",
                                                          "function": "__contains__",
                                                          "group_id": "120818b6-0e84-497d-a8a3-6b07355f0be4",
                                                          "is_application_code": false,
                                                          "line_no": 295,
                                                          "time": 0.000998
                                                         }
                                                        ],
                                                        "class_name": "Config",
                                                        "file_path": "/Users/swap357/miniconda3/envs/jprof/lib/python3.12/site-packages/traitlets/config/loader.py",
                                                        "file_path_short": "traitlets/config/loader.py",
                                                        "function": "_has_section",
                                                        "group_id": "120818b6-0e84-497d-a8a3-6b07355f0be4",
                                                        "is_application_code": false,
                                                        "line_no": 308,
                                                        "time": 0.000998
                                                       }
                                                      ],
                                                      "class_name": "IPythonKernel",
                                                      "file_path": "/Users/swap357/miniconda3/envs/jprof/lib/python3.12/site-packages/traitlets/config/configurable.py",
                                                      "file_path_short": "traitlets/config/configurable.py",
                                                      "function": "_find_my_config",
                                                      "group_id": "120818b6-0e84-497d-a8a3-6b07355f0be4",
                                                      "is_application_code": false,
                                                      "line_no": 138,
                                                      "time": 0.000998
                                                     }
                                                    ],
                                                    "class_name": "ZMQInteractiveShell",
                                                    "file_path": "/Users/swap357/miniconda3/envs/jprof/lib/python3.12/site-packages/traitlets/config/configurable.py",
                                                    "file_path_short": "traitlets/config/configurable.py",
                                                    "function": "_find_my_config",
                                                    "group_id": "120818b6-0e84-497d-a8a3-6b07355f0be4",
                                                    "is_application_code": false,
                                                    "line_no": 138,
                                                    "time": 0.002325
                                                   }
                                                  ],
                                                  "class_name": "DisplayFormatter",
                                                  "file_path": "/Users/swap357/miniconda3/envs/jprof/lib/python3.12/site-packages/traitlets/config/configurable.py",
                                                  "file_path_short": "traitlets/config/configurable.py",
                                                  "function": "_find_my_config",
                                                  "group_id": "120818b6-0e84-497d-a8a3-6b07355f0be4",
                                                  "is_application_code": false,
                                                  "line_no": 138,
                                                  "time": 0.002325
                                                 }
                                                ],
                                                "class_name": "SVGFormatter",
                                                "file_path": "/Users/swap357/miniconda3/envs/jprof/lib/python3.12/site-packages/traitlets/config/configurable.py",
                                                "file_path_short": "traitlets/config/configurable.py",
                                                "function": "_find_my_config",
                                                "group_id": "120818b6-0e84-497d-a8a3-6b07355f0be4",
                                                "is_application_code": false,
                                                "line_no": 138,
                                                "time": 0.002325
                                               }
                                              ],
                                              "class_name": "SVGFormatter",
                                              "file_path": "/Users/swap357/miniconda3/envs/jprof/lib/python3.12/site-packages/traitlets/config/configurable.py",
                                              "file_path_short": "traitlets/config/configurable.py",
                                              "function": "_load_config",
                                              "group_id": "120818b6-0e84-497d-a8a3-6b07355f0be4",
                                              "is_application_code": false,
                                              "line_no": 163,
                                              "time": 0.002325
                                             }
                                            ],
                                            "class_name": "SVGFormatter",
                                            "file_path": "/Users/swap357/miniconda3/envs/jprof/lib/python3.12/site-packages/traitlets/config/configurable.py",
                                            "file_path_short": "traitlets/config/configurable.py",
                                            "function": "_config_changed",
                                            "group_id": "120818b6-0e84-497d-a8a3-6b07355f0be4",
                                            "is_application_code": false,
                                            "line_no": 216,
                                            "time": 0.002325
                                           }
                                          ],
                                          "class_name": "SVGFormatter",
                                          "file_path": "/Users/swap357/miniconda3/envs/jprof/lib/python3.12/site-packages/traitlets/traitlets.py",
                                          "file_path_short": "traitlets/traitlets.py",
                                          "function": "compatible_observer",
                                          "group_id": "120818b6-0e84-497d-a8a3-6b07355f0be4",
                                          "is_application_code": false,
                                          "line_no": 1124,
                                          "time": 0.002325
                                         }
                                        ],
                                        "class_name": "SVGFormatter",
                                        "file_path": "/Users/swap357/miniconda3/envs/jprof/lib/python3.12/site-packages/traitlets/traitlets.py",
                                        "file_path_short": "traitlets/traitlets.py",
                                        "function": "_notify_observers",
                                        "group_id": "120818b6-0e84-497d-a8a3-6b07355f0be4",
                                        "is_application_code": false,
                                        "line_no": 1527,
                                        "time": 0.002325
                                       }
                                      ],
                                      "class_name": "SVGFormatter",
                                      "file_path": "/Users/swap357/miniconda3/envs/jprof/lib/python3.12/site-packages/traitlets/traitlets.py",
                                      "file_path_short": "traitlets/traitlets.py",
                                      "function": "notify_change",
                                      "group_id": "120818b6-0e84-497d-a8a3-6b07355f0be4",
                                      "is_application_code": false,
                                      "line_no": 1523,
                                      "time": 0.002325
                                     }
                                    ],
                                    "class_name": "SVGFormatter",
                                    "file_path": "/Users/swap357/miniconda3/envs/jprof/lib/python3.12/site-packages/traitlets/traitlets.py",
                                    "file_path_short": "traitlets/traitlets.py",
                                    "function": "_notify_trait",
                                    "group_id": "120818b6-0e84-497d-a8a3-6b07355f0be4",
                                    "is_application_code": false,
                                    "line_no": 1512,
                                    "time": 0.002325
                                   }
                                  ],
                                  "class_name": "Instance",
                                  "file_path": "/Users/swap357/miniconda3/envs/jprof/lib/python3.12/site-packages/traitlets/traitlets.py",
                                  "file_path_short": "traitlets/traitlets.py",
                                  "function": "set",
                                  "group_id": "120818b6-0e84-497d-a8a3-6b07355f0be4",
                                  "is_application_code": false,
                                  "line_no": 689,
                                  "time": 0.002325
                                 }
                                ],
                                "class_name": "Instance",
                                "file_path": "/Users/swap357/miniconda3/envs/jprof/lib/python3.12/site-packages/traitlets/traitlets.py",
                                "file_path_short": "traitlets/traitlets.py",
                                "function": "__set__",
                                "group_id": "120818b6-0e84-497d-a8a3-6b07355f0be4",
                                "is_application_code": false,
                                "line_no": 708,
                                "time": 0.002325
                               },
                               {
                                "await_time": 0,
                                "children": [
                                 {
                                  "await_time": 0,
                                  "children": [
                                   {
                                    "await_time": 0,
                                    "children": [],
                                    "file_path": "<built-in>",
                                    "file_path_short": "<built-in>",
                                    "function": "list.append",
                                    "group_id": "120818b6-0e84-497d-a8a3-6b07355f0be4",
                                    "is_application_code": false,
                                    "line_no": 0,
                                    "time": 0.000999
                                   }
                                  ],
                                  "class_name": "HTMLFormatter",
                                  "file_path": "/Users/swap357/miniconda3/envs/jprof/lib/python3.12/site-packages/traitlets/traitlets.py",
                                  "file_path_short": "traitlets/traitlets.py",
                                  "function": "_add_notifiers",
                                  "group_id": "120818b6-0e84-497d-a8a3-6b07355f0be4",
                                  "is_application_code": false,
                                  "line_no": 1570,
                                  "time": 0.000999
                                 }
                                ],
                                "class_name": "HTMLFormatter",
                                "file_path": "/Users/swap357/miniconda3/envs/jprof/lib/python3.12/site-packages/traitlets/traitlets.py",
                                "file_path_short": "traitlets/traitlets.py",
                                "function": "observe",
                                "group_id": "120818b6-0e84-497d-a8a3-6b07355f0be4",
                                "is_application_code": false,
                                "line_no": 1641,
                                "time": 0.000999
                               }
                              ],
                              "class_name": "SVGFormatter",
                              "file_path": "/Users/swap357/miniconda3/envs/jprof/lib/python3.12/site-packages/traitlets/config/configurable.py",
                              "file_path_short": "traitlets/config/configurable.py",
                              "function": "__init__",
                              "group_id": "120818b6-0e84-497d-a8a3-6b07355f0be4",
                              "is_application_code": false,
                              "line_no": 57,
                              "time": 0.003324
                             },
                             {
                              "await_time": 0,
                              "children": [
                               {
                                "await_time": 0,
                                "children": [
                                 {
                                  "await_time": 0,
                                  "children": [
                                   {
                                    "await_time": 0,
                                    "children": [
                                     {
                                      "await_time": 0,
                                      "children": [],
                                      "class_name": "JSONFormatter",
                                      "file_path": "/Users/swap357/miniconda3/envs/jprof/lib/python3.12/site-packages/traitlets/traitlets.py",
                                      "file_path_short": "traitlets/traitlets.py",
                                      "function": "observe",
                                      "group_id": "120818b6-0e84-497d-a8a3-6b07355f0be4",
                                      "is_application_code": false,
                                      "line_no": 1641,
                                      "time": 0.001
                                     }
                                    ],
                                    "class_name": "ObserveHandler",
                                    "file_path": "/Users/swap357/miniconda3/envs/jprof/lib/python3.12/site-packages/traitlets/traitlets.py",
                                    "file_path_short": "traitlets/traitlets.py",
                                    "function": "instance_init",
                                    "group_id": "120818b6-0e84-497d-a8a3-6b07355f0be4",
                                    "is_application_code": false,
                                    "line_no": 1256,
                                    "time": 0.001
                                   }
                                  ],
                                  "file_path": "/Users/swap357/miniconda3/envs/jprof/lib/python3.12/site-packages/traitlets/traitlets.py",
                                  "file_path_short": "traitlets/traitlets.py",
                                  "function": "setup_instance",
                                  "group_id": "120818b6-0e84-497d-a8a3-6b07355f0be4",
                                  "is_application_code": false,
                                  "line_no": 1295,
                                  "time": 0.001
                                 }
                                ],
                                "file_path": "/Users/swap357/miniconda3/envs/jprof/lib/python3.12/site-packages/traitlets/traitlets.py",
                                "file_path_short": "traitlets/traitlets.py",
                                "function": "setup_instance",
                                "group_id": "120818b6-0e84-497d-a8a3-6b07355f0be4",
                                "is_application_code": false,
                                "line_no": 1323,
                                "time": 0.001
                               }
                              ],
                              "file_path": "/Users/swap357/miniconda3/envs/jprof/lib/python3.12/site-packages/traitlets/traitlets.py",
                              "file_path_short": "traitlets/traitlets.py",
                              "function": "__new__",
                              "group_id": "120818b6-0e84-497d-a8a3-6b07355f0be4",
                              "is_application_code": false,
                              "line_no": 1280,
                              "time": 0.001
                             }
                            ],
                            "class_name": "DisplayFormatter",
                            "file_path": "/Users/swap357/miniconda3/envs/jprof/lib/python3.12/site-packages/IPython/core/formatters.py",
                            "file_path_short": "IPython/core/formatters.py",
                            "function": "_formatters_default",
                            "group_id": "120818b6-0e84-497d-a8a3-6b07355f0be4",
                            "is_application_code": false,
                            "line_no": 72,
                            "time": 0.004324
                           }
                          ],
                          "class_name": "DefaultHandler",
                          "file_path": "/Users/swap357/miniconda3/envs/jprof/lib/python3.12/site-packages/traitlets/traitlets.py",
                          "file_path_short": "traitlets/traitlets.py",
                          "function": "__call__",
                          "group_id": "120818b6-0e84-497d-a8a3-6b07355f0be4",
                          "is_application_code": false,
                          "line_no": 1238,
                          "time": 0.004324
                         }
                        ],
                        "class_name": "DisplayFormatter",
                        "file_path": "/Users/swap357/miniconda3/envs/jprof/lib/python3.12/site-packages/traitlets/traitlets.py",
                        "file_path_short": "traitlets/traitlets.py",
                        "function": "trait_defaults",
                        "group_id": "120818b6-0e84-497d-a8a3-6b07355f0be4",
                        "is_application_code": false,
                        "line_no": 1885,
                        "time": 0.004324
                       }
                      ],
                      "class_name": "Dict",
                      "file_path": "/Users/swap357/miniconda3/envs/jprof/lib/python3.12/site-packages/traitlets/traitlets.py",
                      "file_path_short": "traitlets/traitlets.py",
                      "function": "get",
                      "group_id": "120818b6-0e84-497d-a8a3-6b07355f0be4",
                      "is_application_code": false,
                      "line_no": 629,
                      "time": 0.004324
                     }
                    ],
                    "class_name": "Dict",
                    "file_path": "/Users/swap357/miniconda3/envs/jprof/lib/python3.12/site-packages/traitlets/traitlets.py",
                    "file_path_short": "traitlets/traitlets.py",
                    "function": "__get__",
                    "group_id": "120818b6-0e84-497d-a8a3-6b07355f0be4",
                    "is_application_code": false,
                    "line_no": 676,
                    "time": 0.004324
                   },
                   {
                    "await_time": 0,
                    "children": [
                     {
                      "await_time": 0,
                      "children": [
                       {
                        "await_time": 0,
                        "children": [
                         {
                          "await_time": 0,
                          "children": [
                           {
                            "await_time": 0,
                            "children": [
                             {
                              "await_time": 0,
                              "children": [
                               {
                                "await_time": 0,
                                "children": [
                                 {
                                  "await_time": 0,
                                  "children": [],
                                  "class_name": "IPythonDisplayFormatter",
                                  "file_path": "/Users/swap357/miniconda3/envs/jprof/lib/python3.12/site-packages/traitlets/traitlets.py",
                                  "file_path_short": "traitlets/traitlets.py",
                                  "function": "_get_trait_default_generator",
                                  "group_id": "120818b6-0e84-497d-a8a3-6b07355f0be4",
                                  "is_application_code": false,
                                  "line_no": 1873,
                                  "time": 0.001
                                 }
                                ],
                                "class_name": "IPythonDisplayFormatter",
                                "file_path": "/Users/swap357/miniconda3/envs/jprof/lib/python3.12/site-packages/traitlets/traitlets.py",
                                "file_path_short": "traitlets/traitlets.py",
                                "function": "trait_defaults",
                                "group_id": "120818b6-0e84-497d-a8a3-6b07355f0be4",
                                "is_application_code": false,
                                "line_no": 1885,
                                "time": 0.001
                               }
                              ],
                              "class_name": "Dict",
                              "file_path": "/Users/swap357/miniconda3/envs/jprof/lib/python3.12/site-packages/traitlets/traitlets.py",
                              "file_path_short": "traitlets/traitlets.py",
                              "function": "get",
                              "group_id": "120818b6-0e84-497d-a8a3-6b07355f0be4",
                              "is_application_code": false,
                              "line_no": 629,
                              "time": 0.001
                             }
                            ],
                            "class_name": "Dict",
                            "file_path": "/Users/swap357/miniconda3/envs/jprof/lib/python3.12/site-packages/traitlets/traitlets.py",
                            "file_path_short": "traitlets/traitlets.py",
                            "function": "__get__",
                            "group_id": "120818b6-0e84-497d-a8a3-6b07355f0be4",
                            "is_application_code": false,
                            "line_no": 676,
                            "time": 0.001
                           }
                          ],
                          "class_name": "IPythonDisplayFormatter",
                          "file_path": "/Users/swap357/miniconda3/envs/jprof/lib/python3.12/site-packages/IPython/core/formatters.py",
                          "file_path_short": "IPython/core/formatters.py",
                          "function": "lookup",
                          "group_id": "120818b6-0e84-497d-a8a3-6b07355f0be4",
                          "is_application_code": false,
                          "line_no": 376,
                          "time": 0.001
                         }
                        ],
                        "class_name": "IPythonDisplayFormatter",
                        "file_path": "/Users/swap357/miniconda3/envs/jprof/lib/python3.12/site-packages/IPython/core/formatters.py",
                        "file_path_short": "IPython/core/formatters.py",
                        "function": "__call__",
                        "group_id": "120818b6-0e84-497d-a8a3-6b07355f0be4",
                        "is_application_code": false,
                        "line_no": 910,
                        "time": 0.001
                       },
                       {
                        "await_time": 0,
                        "children": [
                         {
                          "await_time": 0,
                          "children": [
                           {
                            "await_time": 0,
                            "children": [
                             {
                              "await_time": 0,
                              "children": [
                               {
                                "await_time": 0,
                                "children": [],
                                "class_name": "ObjectName",
                                "file_path": "/Users/swap357/miniconda3/envs/jprof/lib/python3.12/site-packages/traitlets/traitlets.py",
                                "file_path_short": "traitlets/traitlets.py",
                                "function": "validate",
                                "group_id": "120818b6-0e84-497d-a8a3-6b07355f0be4",
                                "is_application_code": false,
                                "line_no": 3025,
                                "time": 0.001
                               }
                              ],
                              "class_name": "ObjectName",
                              "file_path": "/Users/swap357/miniconda3/envs/jprof/lib/python3.12/site-packages/traitlets/traitlets.py",
                              "file_path_short": "traitlets/traitlets.py",
                              "function": "_validate",
                              "group_id": "120818b6-0e84-497d-a8a3-6b07355f0be4",
                              "is_application_code": false,
                              "line_no": 718,
                              "time": 0.001
                             }
                            ],
                            "class_name": "ObjectName",
                            "file_path": "/Users/swap357/miniconda3/envs/jprof/lib/python3.12/site-packages/traitlets/traitlets.py",
                            "file_path_short": "traitlets/traitlets.py",
                            "function": "get",
                            "group_id": "120818b6-0e84-497d-a8a3-6b07355f0be4",
                            "is_application_code": false,
                            "line_no": 629,
                            "time": 0.001
                           }
                          ],
                          "class_name": "ObjectName",
                          "file_path": "/Users/swap357/miniconda3/envs/jprof/lib/python3.12/site-packages/traitlets/traitlets.py",
                          "file_path_short": "traitlets/traitlets.py",
                          "function": "__get__",
                          "group_id": "120818b6-0e84-497d-a8a3-6b07355f0be4",
                          "is_application_code": false,
                          "line_no": 676,
                          "time": 0.001
                         }
                        ],
                        "class_name": "JSONFormatter",
                        "file_path": "/Users/swap357/miniconda3/envs/jprof/lib/python3.12/site-packages/IPython/core/formatters.py",
                        "file_path_short": "IPython/core/formatters.py",
                        "function": "__call__",
                        "group_id": "120818b6-0e84-497d-a8a3-6b07355f0be4",
                        "is_application_code": false,
                        "line_no": 333,
                        "time": 0.001
                       },
                       {
                        "await_time": 0,
                        "children": [
                         {
                          "await_time": 0,
                          "children": [
                           {
                            "await_time": 0,
                            "children": [
                             {
                              "await_time": 0,
                              "children": [
                               {
                                "await_time": 0,
                                "children": [
                                 {
                                  "await_time": 0,
                                  "children": [
                                   {
                                    "await_time": 0,
                                    "children": [
                                     {
                                      "await_time": 0,
                                      "children": [
                                       {
                                        "await_time": 0,
                                        "children": [
                                         {
                                          "await_time": 0,
                                          "children": [],
                                          "file_path": "<built-in>",
                                          "file_path_short": "<built-in>",
                                          "function": "len",
                                          "group_id": "120818b6-0e84-497d-a8a3-6b07355f0be4",
                                          "is_application_code": false,
                                          "line_no": 0,
                                          "time": 0.001
                                         }
                                        ],
                                        "class_name": "GroupQueue",
                                        "file_path": "/Users/swap357/miniconda3/envs/jprof/lib/python3.12/site-packages/IPython/lib/pretty.py",
                                        "file_path_short": "IPython/lib/pretty.py",
                                        "function": "enq",
                                        "group_id": "120818b6-0e84-497d-a8a3-6b07355f0be4",
                                        "is_application_code": false,
                                        "line_no": 504,
                                        "time": 0.001
                                       }
                                      ],
                                      "class_name": "RepresentationPrinter",
                                      "file_path": "/Users/swap357/miniconda3/envs/jprof/lib/python3.12/site-packages/IPython/lib/pretty.py",
                                      "file_path_short": "IPython/lib/pretty.py",
                                      "function": "begin_group",
                                      "group_id": "120818b6-0e84-497d-a8a3-6b07355f0be4",
                                      "is_application_code": false,
                                      "line_no": 281,
                                      "time": 0.001
                                     }
                                    ],
                                    "class_name": "RepresentationPrinter",
                                    "file_path": "/Users/swap357/miniconda3/envs/jprof/lib/python3.12/site-packages/IPython/lib/pretty.py",
                                    "file_path_short": "IPython/lib/pretty.py",
                                    "function": "group",
                                    "group_id": "120818b6-0e84-497d-a8a3-6b07355f0be4",
                                    "is_application_code": false,
                                    "line_no": 185,
                                    "time": 0.001
                                   }
                                  ],
                                  "class_name": "_GeneratorContextManager",
                                  "file_path": "/Users/swap357/miniconda3/envs/jprof/lib/python3.12/contextlib.py",
                                  "file_path_short": "contextlib.py",
                                  "function": "__enter__",
                                  "group_id": "120818b6-0e84-497d-a8a3-6b07355f0be4",
                                  "is_application_code": false,
                                  "line_no": 132,
                                  "time": 0.001
                                 }
                                ],
                                "file_path": "/Users/swap357/miniconda3/envs/jprof/lib/python3.12/site-packages/IPython/lib/pretty.py",
                                "file_path_short": "IPython/lib/pretty.py",
                                "function": "_repr_pprint",
                                "group_id": "120818b6-0e84-497d-a8a3-6b07355f0be4",
                                "is_application_code": false,
                                "line_no": 784,
                                "time": 0.001
                               }
                              ],
                              "class_name": "RepresentationPrinter",
                              "file_path": "/Users/swap357/miniconda3/envs/jprof/lib/python3.12/site-packages/IPython/lib/pretty.py",
                              "file_path_short": "IPython/lib/pretty.py",
                              "function": "pretty",
                              "group_id": "120818b6-0e84-497d-a8a3-6b07355f0be4",
                              "is_application_code": false,
                              "line_no": 373,
                              "time": 0.001
                             }
                            ],
                            "file_path": "/Users/swap357/miniconda3/envs/jprof/lib/python3.12/site-packages/IPython/lib/pretty.py",
                            "file_path_short": "IPython/lib/pretty.py",
                            "function": "inner",
                            "group_id": "120818b6-0e84-497d-a8a3-6b07355f0be4",
                            "is_application_code": false,
                            "line_no": 640,
                            "time": 0.001
                           }
                          ],
                          "class_name": "RepresentationPrinter",
                          "file_path": "/Users/swap357/miniconda3/envs/jprof/lib/python3.12/site-packages/IPython/lib/pretty.py",
                          "file_path_short": "IPython/lib/pretty.py",
                          "function": "pretty",
                          "group_id": "120818b6-0e84-497d-a8a3-6b07355f0be4",
                          "is_application_code": false,
                          "line_no": 373,
                          "time": 0.001
                         }
                        ],
                        "class_name": "PlainTextFormatter",
                        "file_path": "/Users/swap357/miniconda3/envs/jprof/lib/python3.12/site-packages/IPython/core/formatters.py",
                        "file_path_short": "IPython/core/formatters.py",
                        "function": "__call__",
                        "group_id": "120818b6-0e84-497d-a8a3-6b07355f0be4",
                        "is_application_code": false,
                        "line_no": 698,
                        "time": 0.001
                       }
                      ],
                      "file_path": "/Users/swap357/miniconda3/envs/jprof/lib/python3.12/site-packages/IPython/core/formatters.py",
                      "file_path_short": "IPython/core/formatters.py",
                      "function": "catch_format_error",
                      "group_id": "120818b6-0e84-497d-a8a3-6b07355f0be4",
                      "is_application_code": false,
                      "line_no": 222,
                      "time": 0.003
                     }
                    ],
                    "file_path": "/Users/swap357/miniconda3/envs/jprof/lib/python3.12/site-packages/decorator.py",
                    "file_path_short": "decorator.py",
                    "function": "fun",
                    "group_id": "120818b6-0e84-497d-a8a3-6b07355f0be4",
                    "is_application_code": false,
                    "line_no": 229,
                    "time": 0.003
                   }
                  ],
                  "class_name": "DisplayFormatter",
                  "file_path": "/Users/swap357/miniconda3/envs/jprof/lib/python3.12/site-packages/IPython/core/formatters.py",
                  "file_path_short": "IPython/core/formatters.py",
                  "function": "format",
                  "group_id": "120818b6-0e84-497d-a8a3-6b07355f0be4",
                  "is_application_code": false,
                  "line_no": 93,
                  "time": 0.007324
                 }
                ],
                "class_name": "ZMQShellDisplayHook",
                "file_path": "/Users/swap357/miniconda3/envs/jprof/lib/python3.12/site-packages/IPython/core/displayhook.py",
                "file_path_short": "IPython/core/displayhook.py",
                "function": "compute_format_data",
                "group_id": "120818b6-0e84-497d-a8a3-6b07355f0be4",
                "is_application_code": false,
                "line_no": 127,
                "time": 0.007324
               },
               {
                "await_time": 0,
                "children": [
                 {
                  "await_time": 0,
                  "children": [
                   {
                    "await_time": 0,
                    "children": [
                     {
                      "await_time": 0,
                      "children": [
                       {
                        "await_time": 0,
                        "children": [],
                        "file_path": "<built-in>",
                        "file_path_short": "<built-in>",
                        "function": "lock.acquire",
                        "group_id": "120818b6-0e84-497d-a8a3-6b07355f0be4",
                        "is_application_code": false,
                        "line_no": 0,
                        "time": 0.002341
                       }
                      ],
                      "class_name": "Condition",
                      "file_path": "/Users/swap357/miniconda3/envs/jprof/lib/python3.12/threading.py",
                      "file_path_short": "threading.py",
                      "function": "wait",
                      "group_id": "120818b6-0e84-497d-a8a3-6b07355f0be4",
                      "is_application_code": false,
                      "line_no": 323,
                      "time": 0.002341
                     }
                    ],
                    "class_name": "Event",
                    "file_path": "/Users/swap357/miniconda3/envs/jprof/lib/python3.12/threading.py",
                    "file_path_short": "threading.py",
                    "function": "wait",
                    "group_id": "120818b6-0e84-497d-a8a3-6b07355f0be4",
                    "is_application_code": false,
                    "line_no": 637,
                    "time": 0.002341
                   }
                  ],
                  "class_name": "OutStream",
                  "file_path": "/Users/swap357/miniconda3/envs/jprof/lib/python3.12/site-packages/ipykernel/iostream.py",
                  "file_path_short": "ipykernel/iostream.py",
                  "function": "flush",
                  "group_id": "120818b6-0e84-497d-a8a3-6b07355f0be4",
                  "is_application_code": false,
                  "line_no": 561,
                  "time": 0.002341
                 }
                ],
                "class_name": "ZMQShellDisplayHook",
                "file_path": "/Users/swap357/miniconda3/envs/jprof/lib/python3.12/site-packages/ipykernel/displayhook.py",
                "file_path_short": "ipykernel/displayhook.py",
                "function": "finish_displayhook",
                "group_id": "120818b6-0e84-497d-a8a3-6b07355f0be4",
                "is_application_code": false,
                "line_no": 95,
                "time": 0.002341
               },
               {
                "await_time": 0,
                "children": [
                 {
                  "await_time": 0,
                  "children": [
                   {
                    "await_time": 0,
                    "children": [],
                    "file_path": "/Users/swap357/miniconda3/envs/jprof/lib/python3.12/tokenize.py",
                    "file_path_short": "tokenize.py",
                    "function": "_generate_tokens_from_c_tokenizer",
                    "group_id": "120818b6-0e84-497d-a8a3-6b07355f0be4",
                    "is_application_code": false,
                    "line_no": 569,
                    "time": 0.001046
                   }
                  ],
                  "file_path": "/Users/swap357/miniconda3/envs/jprof/lib/python3.12/site-packages/IPython/core/displayhook.py",
                  "file_path_short": "IPython/core/displayhook.py",
                  "function": "semicolon_at_end_of_expression",
                  "group_id": "120818b6-0e84-497d-a8a3-6b07355f0be4",
                  "is_application_code": false,
                  "line_no": 96,
                  "time": 0.001046
                 }
                ],
                "class_name": "ZMQShellDisplayHook",
                "file_path": "/Users/swap357/miniconda3/envs/jprof/lib/python3.12/site-packages/IPython/core/displayhook.py",
                "file_path_short": "IPython/core/displayhook.py",
                "function": "quiet",
                "group_id": "120818b6-0e84-497d-a8a3-6b07355f0be4",
                "is_application_code": false,
                "line_no": 84,
                "time": 0.001046
               }
              ],
              "class_name": "ZMQShellDisplayHook",
              "file_path": "/Users/swap357/miniconda3/envs/jprof/lib/python3.12/site-packages/IPython/core/displayhook.py",
              "file_path_short": "IPython/core/displayhook.py",
              "function": "__call__",
              "group_id": "120818b6-0e84-497d-a8a3-6b07355f0be4",
              "is_application_code": false,
              "line_no": 258,
              "time": 0.010712
             }
            ],
            "file_path": "/var/folders/9j/m8bnhxz13gn_8wlkkd6dqhrh0000gp/T/ipykernel_54898/2534923195.py",
            "file_path_short": "../../../../../var/folders/9j/m8bnhxz13gn_8wlkkd6dqhrh0000gp/T/ipykernel_54898/2534923195.py",
            "function": "<module>",
            "is_application_code": true,
            "line_no": 1,
            "time": 0.010712
           }
          ],
          "class_name": "ZMQInteractiveShell",
          "file_path": "/Users/swap357/miniconda3/envs/jprof/lib/python3.12/site-packages/IPython/core/interactiveshell.py",
          "file_path_short": "IPython/core/interactiveshell.py",
          "function": "run_ast_nodes",
          "is_application_code": false,
          "line_no": 3418,
          "time": 0.010712
         },
         {
          "await_time": 0,
          "children": [
           {
            "await_time": 0,
            "children": [],
            "file_path": "<built-in>",
            "file_path_short": "<built-in>",
            "function": "compile",
            "group_id": "03c3fcc7-9079-4ffd-a459-71c288202add",
            "is_application_code": false,
            "line_no": 0,
            "time": 0.001151
           }
          ],
          "class_name": "XCachingCompiler",
          "file_path": "/Users/swap357/miniconda3/envs/jprof/lib/python3.12/site-packages/IPython/core/compilerop.py",
          "file_path_short": "IPython/core/compilerop.py",
          "function": "ast_parse",
          "group_id": "03c3fcc7-9079-4ffd-a459-71c288202add",
          "is_application_code": false,
          "line_no": 81,
          "time": 0.001151
         }
        ],
        "class_name": "ZMQInteractiveShell",
        "file_path": "/Users/swap357/miniconda3/envs/jprof/lib/python3.12/site-packages/IPython/core/interactiveshell.py",
        "file_path_short": "IPython/core/interactiveshell.py",
        "function": "run_cell_async",
        "is_application_code": false,
        "line_no": 3183,
        "time": 0.011863
       },
       "sample_count": 11,
       "start_time": 1728065134.069307,
       "target_description": "Profile at /Users/swap357/Documents/dev/jprofiler/jprofiler/miniprofiler.py:22"
      }
     },
     "metadata": {},
     "output_type": "display_data"
    }
   ],
   "source": [
    "primes = compute_primes(10)\n",
    "primes"
   ]
  },
  {
   "cell_type": "code",
   "execution_count": null,
   "id": "5f6c8c6a-1551-4e2a-8fe4-056c34583b2a",
   "metadata": {},
   "outputs": [],
   "source": []
  }
 ],
 "metadata": {
  "kernelspec": {
   "display_name": "Python 3 (ipykernel)",
   "language": "python",
   "name": "python3"
  },
  "language_info": {
   "codemirror_mode": {
    "name": "ipython",
    "version": 3
   },
   "file_extension": ".py",
   "mimetype": "text/x-python",
   "name": "python",
   "nbconvert_exporter": "python",
   "pygments_lexer": "ipython3",
   "version": "3.12.6"
  }
 },
 "nbformat": 4,
 "nbformat_minor": 5
}
